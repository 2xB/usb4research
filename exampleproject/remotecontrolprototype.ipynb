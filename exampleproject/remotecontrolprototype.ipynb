{
 "cells": [
  {
   "cell_type": "code",
   "execution_count": 48,
   "id": "48da17a9-c6a0-4115-b603-2838d9da9b79",
   "metadata": {
    "tags": []
   },
   "outputs": [],
   "source": [
    "# PyUSB\n",
    "import usb.core\n",
    "import usb.util"
   ]
  },
  {
   "cell_type": "code",
   "execution_count": 52,
   "id": "16f6366b-f728-4e8d-8bfe-19f26dd64d1a",
   "metadata": {
    "tags": []
   },
   "outputs": [],
   "source": [
    "# lsusb gives information on vendor and product ids: 0bc7:0006\n",
    "device = usb.core.find(idVendor=0x0bc7, idProduct=0x0006)\n",
    "\n",
    "if device.get_active_configuration() is None:\n",
    "    device.set_configuration()\n",
    "\n",
    "device.detach_kernel_driver(0)"
   ]
  },
  {
   "cell_type": "code",
   "execution_count": 47,
   "id": "aeee8520-a28a-4e3e-a467-a4a005be156e",
   "metadata": {
    "tags": []
   },
   "outputs": [
    {
     "name": "stdout",
     "output_type": "stream",
     "text": [
      "31\n",
      "29\n",
      "26\n",
      "34\n",
      "31\n"
     ]
    }
   ],
   "source": [
    "parity = None\n",
    "while True:\n",
    "    response = device.read(0x81,4,1000000)\n",
    "    \n",
    "    if response[2] & 0b01111111 == 2:\n",
    "        break\n",
    "        \n",
    "    assert response[0] == 0x14\n",
    "    \n",
    "    if not (response[2] & 0b10000000):\n",
    "        if parity is not None and parity:\n",
    "            continue\n",
    "        parity = True\n",
    "    else:\n",
    "        if parity is not None and not parity:\n",
    "            continue\n",
    "        parity = False\n",
    "    \n",
    "    print(response[2] & 0b01111111)\n",
    "    \n",
    "    assert response[3] == 0x00"
   ]
  },
  {
   "cell_type": "code",
   "execution_count": 58,
   "id": "7cf9491c-88fd-47e6-8e56-b7205ab9a070",
   "metadata": {
    "tags": []
   },
   "outputs": [
    {
     "name": "stdout",
     "output_type": "stream",
     "text": [
      "Help on Endpoint in module usb.core object:\n",
      "\n",
      "class Endpoint(builtins.object)\n",
      " |  Endpoint(device, endpoint, interface=0, alternate_setting=0, configuration=0)\n",
      " |  \n",
      " |  Represent an endpoint object.\n",
      " |  \n",
      " |  This class contains all fields of the Endpoint Descriptor according to the\n",
      " |  USB Specification. You can access them as class properties. For example, to\n",
      " |  access the field bEndpointAddress of the endpoint descriptor, you can do so:\n",
      " |  \n",
      " |  >>> import usb.core\n",
      " |  >>> dev = usb.core.find()\n",
      " |  >>> for cfg in dev:\n",
      " |  >>>     for i in cfg:\n",
      " |  >>>         for e in i:\n",
      " |  >>>             print e.bEndpointAddress\n",
      " |  \n",
      " |  Methods defined here:\n",
      " |  \n",
      " |  __init__(self, device, endpoint, interface=0, alternate_setting=0, configuration=0)\n",
      " |      Initialize the Endpoint object.\n",
      " |      \n",
      " |      The device parameter is the device object returned by the find()\n",
      " |      function. endpoint is the endpoint logical index (not the endpoint\n",
      " |      address). The configuration parameter is the logical index of the\n",
      " |      configuration (not the bConfigurationValue field). The interface\n",
      " |      parameter is the interface logical index (not the bInterfaceNumber\n",
      " |      field) and alternate_setting is the alternate setting logical index\n",
      " |      (not the bAlternateSetting value). An interface may have only one\n",
      " |      alternate setting. In this case, the alternate_setting parameter\n",
      " |      should be zero. By \"logical index\" we mean the relative order of the\n",
      " |      configurations returned by the peripheral as a result of GET_DESCRIPTOR\n",
      " |      request.\n",
      " |  \n",
      " |  __repr__(self)\n",
      " |      Return repr(self).\n",
      " |  \n",
      " |  __str__(self)\n",
      " |      Return str(self).\n",
      " |  \n",
      " |  clear_halt(self)\n",
      " |      Clear the halt/status condition of the endpoint.\n",
      " |  \n",
      " |  read(self, size_or_buffer, timeout=None)\n",
      " |      Read data from the endpoint.\n",
      " |      \n",
      " |      The parameter size_or_buffer is either the number of bytes to\n",
      " |      read or an array object where the data will be put in and timeout is the\n",
      " |      time limit of the operation. The transfer type and endpoint address\n",
      " |      are automatically inferred.\n",
      " |      \n",
      " |      The method returns either an array object or the number of bytes\n",
      " |      actually read.\n",
      " |      \n",
      " |      For details, see the Device.read() method.\n",
      " |  \n",
      " |  write(self, data, timeout=None)\n",
      " |      Write data to the endpoint.\n",
      " |      \n",
      " |      The parameter data contains the data to be sent to the endpoint and\n",
      " |      timeout is the time limit of the operation. The transfer type and\n",
      " |      endpoint address are automatically inferred.\n",
      " |      \n",
      " |      The method returns the number of bytes written.\n",
      " |      \n",
      " |      For details, see the Device.write() method.\n",
      " |  \n",
      " |  ----------------------------------------------------------------------\n",
      " |  Data descriptors defined here:\n",
      " |  \n",
      " |  __dict__\n",
      " |      dictionary for instance variables (if defined)\n",
      " |  \n",
      " |  __weakref__\n",
      " |      list of weak references to the object (if defined)\n",
      "\n"
     ]
    }
   ],
   "source": [
    "help(device.configurations()[0].interfaces()[0].endpoints()[0])"
   ]
  },
  {
   "cell_type": "code",
   "execution_count": null,
   "id": "205cb6bd-610b-4c32-b8f3-caeece32500f",
   "metadata": {
    "tags": []
   },
   "outputs": [],
   "source": [
    "device.attach_kernel_driver(0)"
   ]
  },
  {
   "cell_type": "code",
   "execution_count": null,
   "id": "b6b943c4-4f9e-4945-81f0-c7798e793421",
   "metadata": {},
   "outputs": [],
   "source": []
  }
 ],
 "metadata": {
  "kernelspec": {
   "display_name": "Python 3 (ipykernel)",
   "language": "python",
   "name": "python3"
  },
  "language_info": {
   "codemirror_mode": {
    "name": "ipython",
    "version": 3
   },
   "file_extension": ".py",
   "mimetype": "text/x-python",
   "name": "python",
   "nbconvert_exporter": "python",
   "pygments_lexer": "ipython3",
   "version": "3.10.9"
  }
 },
 "nbformat": 4,
 "nbformat_minor": 5
}
